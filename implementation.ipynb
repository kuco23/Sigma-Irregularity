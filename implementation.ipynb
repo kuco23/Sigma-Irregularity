{
 "cells": [
  {
   "cell_type": "markdown",
   "metadata": {},
   "source": [
    "## Testing σ-irregularity vs. total σ-irregularity\n",
    "\n",
    "### Problem Definition\n",
    "We are given two measures of a graph irregularity,\n",
    "*σ-irregularity* and *total σ-irregularity*, defined as bellow:<br /><br />\n",
    "$$\n",
    "\\sigma(G) = \\sum_{(u,v) \\in E(G)}(d(u) - d(v))^2 \n",
    "\\quad\\text{and}\\quad \n",
    "\\sigma_t(G) = \\sum_{(u,v) \\in V(G)}(d(u) - d(v))^2\n",
    "$$.\n",
    "We are searching for graphs, where the ratio's\n",
    "$r_{\\sigma} = \\frac{\\sigma_t(G)}{\\sigma(G)}$ \n",
    "maximum is reached.\n",
    "\n",
    "### Problem Classification\n",
    "It is trivial to see that $r_{\\sigma} \\geq 1$, \n",
    "if in case of $\\sigma_t(G) = 0 \\implies \\sigma(G) = 0$,\n",
    "we define $r_{\\sigma}(G) = 1$. <br />\n",
    "If the graph $G$ is not connected, \n",
    "and it's components are all regular graphs,\n",
    "then $\\sigma(G) = 0$ and $\\sigma(G) \\neq 0$.<br />\n",
    "In this situation we shall define $r_{\\sigma} = 0$,\n",
    "as those graphs are not what we are looking for.\n",
    "\n",
    "If we'd want to find a graph that satisfies the above \n",
    "maximization conditions, the brute-force approach would\n",
    "be to generate all non-isomorphic graphs on $n$ vertices\n",
    "and calculate their $r_{\\sigma}$ value.\n",
    "\n",
    "This approach will work for very small graphs, \n",
    "though as they get bigger its time complexity will explode.<br />\n",
    "Therefore we will try to implement **simulated annealing**.\n",
    "\n",
    "### Simulated Annealing\n",
    "We will try to maximize the function\n",
    "$r_{\\sigma}$ on the space of all graphs with the number of\n",
    "vertices $n$ through simulated annealing.<br />\n",
    "Its implementation is similar to the one [here](http://www.cleveralgorithms.com/nature-inspired/physical/simulated_annealing.html).\n",
    "\n",
    "### The Code\n",
    "We will walk step by step through the code,\n",
    "towards the simulated annealing algorithm implementation.\n",
    "\n",
    "#### libraries\n",
    "We will need support from the built-in libraries below."
   ]
  },
  {
   "cell_type": "code",
   "execution_count": null,
   "metadata": {},
   "outputs": [],
   "source": [
    "from math import e, log\n",
    "from random import randint, choice, random, sample\n",
    "from itertools import combinations, product"
   ]
  },
  {
   "cell_type": "markdown",
   "metadata": {},
   "source": [
    "And the following 3rd party libraries."
   ]
  },
  {
   "cell_type": "code",
   "execution_count": null,
   "metadata": {},
   "outputs": [],
   "source": [
    "import matplotlib.pyplot as plt\n",
    "from numpy.random import shuffle\n",
    "import networkx as nx"
   ]
  },
  {
   "cell_type": "markdown",
   "metadata": {},
   "source": [
    "#### base definitions\n",
    "We need to code the definitions for the\n",
    "maps $\\sigma$ and $\\sigma_t$."
   ]
  },
  {
   "cell_type": "code",
   "execution_count": null,
   "metadata": {},
   "outputs": [],
   "source": [
    "def sigma(G):\n",
    "    sm = 0\n",
    "    for u, v in G.edges():\n",
    "        d_u, d_v = map(G.degree, (u, v))\n",
    "        sm += pow(d_u - d_v, 2)\n",
    "    return sm\n",
    "\n",
    "def sigma_t(G):\n",
    "    sm = 0\n",
    "    for u, v in combinations(G.nodes(), 2):\n",
    "        d_u, d_v = map(G.degree, (u, v))\n",
    "        sm += pow(d_u - d_v, 2)\n",
    "    return sm\n",
    "\n",
    "def sigmaRatio(G):\n",
    "    sG, stG = sigma(G), sigma_t(G)\n",
    "    return stG / sG if sG > 0 else 1"
   ]
  },
  {
   "cell_type": "markdown",
   "metadata": {},
   "source": [
    "Here we preference readability over optimization,\n",
    "as we will  could calculate `sigma_t` as an addition\n",
    "to `sigma` return value, but here we really want\n",
    "to keep things readable and maybe let the optimization\n",
    "part for the c++ implementation.\n",
    "\n",
    "#### neighbouring problem\n",
    "Now we need to provide a closely approximated problem, \n",
    "to the one we are solving as it is required by the\n",
    "simulated annealing algorithm.\n",
    "We will do so by writing a function, which\n",
    "removes, adds or does both to the provided graph \n",
    "argument."
   ]
  },
  {
   "cell_type": "code",
   "execution_count": null,
   "metadata": {},
   "outputs": [],
   "source": [
    "def disturbGraph(G):\n",
    "    n = len(G)\n",
    "    nodes = list(range(n))\n",
    "    edges = list(G.edges())\n",
    "\n",
    "    def addRandomEdge():\n",
    "        for e in filter(\n",
    "            lambda uv: uv[0] != uv[1],\n",
    "            product(\n",
    "                sample(nodes, n),\n",
    "                sample(nodes, n)\n",
    "            )\n",
    "        ):\n",
    "            if not G.has_edge(*e):\n",
    "                G.add_edge(*e)\n",
    "                break\n",
    "\n",
    "    def removeRandomEdge():\n",
    "        rem_edge = choice(edges)\n",
    "        G.remove_edge(*rem_edge)\n",
    "\n",
    "    voidFun = lambda: 0\n",
    "    if len(edges) == n * (n - 1) // 2:\n",
    "        addRandomEdge = voidFun\n",
    "    elif len(edges) == 0:\n",
    "        removeRandomEdge = voidFun\n",
    "\n",
    "    choice([\n",
    "        removeRandomEdge,\n",
    "        addRandomEdge,\n",
    "        lambda: (\n",
    "            removeRandomEdge(),\n",
    "            addRandomEdge()\n",
    "        )\n",
    "    ])()"
   ]
  },
  {
   "cell_type": "markdown",
   "metadata": {},
   "source": [
    "The code is pretty direct so we do not feel as the explanation is need."
   ]
  },
  {
   "cell_type": "markdown",
   "metadata": {},
   "source": [
    "#### simulated annealing implementation\n",
    "Now we have all that is needed for the \n",
    "main method implementation"
   ]
  },
  {
   "cell_type": "code",
   "execution_count": 1,
   "metadata": {},
   "outputs": [],
   "source": [
    "def maxSigmaRatio_annealing(n, nsim, temperature=None):\n",
    "    temperature = temperature or (lambda i: 1 / log(i))\n",
    "    prob = lambda ci, cr, t: pow(e, (cr - ci) / t)\n",
    "    \n",
    "    _t = nx.gnm_random_graph(n, randint(1, n))\n",
    "    bes = (_t, sigmaRatio(_t))\n",
    "    cur = (_t.copy(), bes[1])\n",
    "    curi = _t.copy()\n",
    "\n",
    "    for i in range(2, nsim + 2):\n",
    "        t = temperature(i)\n",
    "        disturbGraph(curi)\n",
    "        sri = sigmaRatio(curi)\n",
    "\n",
    "        if sri >= cur[1]:\n",
    "            cur = (curi.copy(), sri)\n",
    "            if sri >= bes[1]:\n",
    "                bes = (curi.copy(), sri)\n",
    "\n",
    "        elif prob(sri, cur[1], t) > random():\n",
    "            cur = (curi.copy(), sri)\n",
    "\n",
    "    return bes"
   ]
  },
  {
   "cell_type": "markdown",
   "metadata": {},
   "source": [
    "#### code execution\n",
    "We now produce the desired graph as shown below."
   ]
  },
  {
   "cell_type": "code",
   "execution_count": null,
   "metadata": {},
   "outputs": [],
   "source": [
    "simulations = 100\n",
    "graph_nodes = 20\n",
    "G, sigma_r = maxSigmaRatio_annealing(graph_nodes, simulations)"
   ]
  }
 ],
 "metadata": {
  "kernelspec": {
   "display_name": "Python 3",
   "language": "python",
   "name": "python3"
  },
  "language_info": {
   "codemirror_mode": {
    "name": "ipython",
    "version": 3
   },
   "file_extension": ".py",
   "mimetype": "text/x-python",
   "name": "python",
   "nbconvert_exporter": "python",
   "pygments_lexer": "ipython3",
   "version": "3.7.1"
  }
 },
 "nbformat": 4,
 "nbformat_minor": 2
}
